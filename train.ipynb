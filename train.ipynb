{
 "cells": [
  {
   "cell_type": "code",
   "execution_count": 1,
   "metadata": {},
   "outputs": [],
   "source": [
    "from torch.utils import data\n",
    "from models import *\n",
    "from CocoDataset import MSCOCODataset\n",
    "from styledataset import StyleImageDataset\n",
    "from utils import image_transform\n",
    "from utils import un_normalize\n",
    "from torch.optim import Adam\n",
    "import os\n",
    "import numpy as np\n",
    "import matplotlib.pyplot as plt\n"
   ]
  },
  {
   "cell_type": "code",
   "execution_count": 2,
   "metadata": {},
   "outputs": [],
   "source": [
    "def train(net, epochs, batch_size,content_dataset, style_dataset, optimizer, c, s, device, pkl_name, show_every=500):\n",
    "    content_loader = data.DataLoader(dataset=content_dataset, batch_size=batch_size)\n",
    "    style_loader = data.DataLoader(dataset=style_dataset, batch_size=1)\n",
    "\n",
    "    net = net.to(device)\n",
    "    net.train()\n",
    "\n",
    "    criteria = FeatureStyleLoss(c, s).to(device)\n",
    "    \n",
    "    b = 0\n",
    "    print('Training Starts! .......')\n",
    "    for e in range(1, epochs+1):\n",
    "        for i, images in enumerate(content_loader):\n",
    "            b += 1\n",
    "            net.zero_grad()\n",
    "\n",
    "            images = images.to(device)\n",
    "            generated_images = net(images).to(device)\n",
    "            style_images = next(iter(style_loader)).to(device)\n",
    "\n",
    "            loss = criteria(images, style_images, generated_images)\n",
    "\n",
    "            loss.backward()\n",
    "            optimizer.step()\n",
    "            if b % show_every == 0:\n",
    "                print('Epoch:{} Batch:{} Loss={:.5f}'.format(e, i+1, loss.item()))\n",
    "                show_generated_images(dataset=content_dataset, net=net, device=device)\n",
    "\n",
    "        torch.save({'state_dict':net.state_dict(),\n",
    "                    'epoch':e,\n",
    "                    'c':c,\n",
    "                    's':s}, (pkl_name+str(e)+'.pth'))\n",
    "\n"
   ]
  },
  {
   "cell_type": "code",
   "execution_count": 3,
   "metadata": {},
   "outputs": [],
   "source": [
    "def show_generated_images(dataset, net, device,show_n=5):\n",
    "    image_idx = np.random.choice(len(dataset), show_n)\n",
    "    image_idx\n",
    "    images = []\n",
    "    for idx in image_idx:\n",
    "        images.append(dataset[idx])\n",
    "\n",
    "    images = torch.stack(images).to(device)\n",
    "    original_images = un_normalize(images)\n",
    "    generated_images = un_normalize(net(images))\n",
    "\n",
    "    \n",
    "    fig, axes = plt.subplots(2, len(original_images))\n",
    "    \n",
    "    for i in range(len(original_images)):\n",
    "        axes[0, i].imshow(original_images[i])\n",
    "        axes[1, i].imshow(generated_images[i])\n",
    "        \n",
    "    plt.show()"
   ]
  },
  {
   "cell_type": "code",
   "execution_count": 4,
   "metadata": {},
   "outputs": [
    {
     "name": "stdout",
     "output_type": "stream",
     "text": [
      "loading annotations into memory...\n",
      "Done (t=0.75s)\n",
      "creating index...\n",
      "index created!\n"
     ]
    },
    {
     "ename": "TypeError",
     "evalue": "__init__() missing 1 required positional argument: 'device'",
     "output_type": "error",
     "traceback": [
      "\u001b[0;31m---------------------------------------------------------------------------\u001b[0m",
      "\u001b[0;31mTypeError\u001b[0m                                 Traceback (most recent call last)",
      "\u001b[0;32m<ipython-input-4-fdb410663a2d>\u001b[0m in \u001b[0;36m<module>\u001b[0;34m\u001b[0m\n\u001b[1;32m     11\u001b[0m \u001b[0mcontent_dataset\u001b[0m \u001b[0;34m=\u001b[0m \u001b[0mMSCOCODataset\u001b[0m\u001b[0;34m(\u001b[0m\u001b[0mANNOTATION_FOLDER\u001b[0m\u001b[0;34m,\u001b[0m \u001b[0mTRAIN_IMAGES_FOLDER\u001b[0m\u001b[0;34m,\u001b[0m \u001b[0mimage_transform\u001b[0m\u001b[0;34m(\u001b[0m\u001b[0;34m)\u001b[0m\u001b[0;34m)\u001b[0m\u001b[0;34m\u001b[0m\u001b[0;34m\u001b[0m\u001b[0m\n\u001b[1;32m     12\u001b[0m \u001b[0mstyle_dataset\u001b[0m \u001b[0;34m=\u001b[0m \u001b[0mStyleImageDataset\u001b[0m\u001b[0;34m(\u001b[0m\u001b[0mSTYLE_IMAGE_FOLDER\u001b[0m\u001b[0;34m,\u001b[0m \u001b[0mimage_transform\u001b[0m\u001b[0;34m(\u001b[0m\u001b[0;34m)\u001b[0m\u001b[0;34m)\u001b[0m\u001b[0;34m\u001b[0m\u001b[0;34m\u001b[0m\u001b[0m\n\u001b[0;32m---> 13\u001b[0;31m \u001b[0mstyle_transfer_net\u001b[0m \u001b[0;34m=\u001b[0m \u001b[0mStyleTransferNet\u001b[0m\u001b[0;34m(\u001b[0m\u001b[0;34m)\u001b[0m\u001b[0;34m\u001b[0m\u001b[0;34m\u001b[0m\u001b[0m\n\u001b[0m\u001b[1;32m     14\u001b[0m \u001b[0moptimizer\u001b[0m \u001b[0;34m=\u001b[0m \u001b[0mAdam\u001b[0m\u001b[0;34m(\u001b[0m\u001b[0mstyle_transfer_net\u001b[0m\u001b[0;34m.\u001b[0m\u001b[0mparameters\u001b[0m\u001b[0;34m(\u001b[0m\u001b[0;34m)\u001b[0m\u001b[0;34m)\u001b[0m\u001b[0;34m\u001b[0m\u001b[0;34m\u001b[0m\u001b[0m\n\u001b[1;32m     15\u001b[0m \u001b[0mC\u001b[0m \u001b[0;34m=\u001b[0m \u001b[0;36m0.8\u001b[0m\u001b[0;34m\u001b[0m\u001b[0;34m\u001b[0m\u001b[0m\n",
      "\u001b[0;32m~/StyleTransfer/models.py\u001b[0m in \u001b[0;36m__init__\u001b[0;34m(self)\u001b[0m\n\u001b[1;32m     19\u001b[0m         \u001b[0mself\u001b[0m\u001b[0;34m.\u001b[0m\u001b[0mrelu\u001b[0m \u001b[0;34m=\u001b[0m \u001b[0mnn\u001b[0m\u001b[0;34m.\u001b[0m\u001b[0mReLU\u001b[0m\u001b[0;34m(\u001b[0m\u001b[0;34m)\u001b[0m\u001b[0;34m\u001b[0m\u001b[0;34m\u001b[0m\u001b[0m\n\u001b[1;32m     20\u001b[0m         self.tanh = ScaledTanh(mean=[0.485, 0.456, 0.406],\n\u001b[0;32m---> 21\u001b[0;31m                                  std=[0.229, 0.224, 0.225])\n\u001b[0m\u001b[1;32m     22\u001b[0m \u001b[0;34m\u001b[0m\u001b[0m\n\u001b[1;32m     23\u001b[0m     \u001b[0;32mdef\u001b[0m \u001b[0mforward\u001b[0m\u001b[0;34m(\u001b[0m\u001b[0mself\u001b[0m\u001b[0;34m,\u001b[0m \u001b[0mx\u001b[0m\u001b[0;34m)\u001b[0m\u001b[0;34m:\u001b[0m\u001b[0;34m\u001b[0m\u001b[0;34m\u001b[0m\u001b[0m\n",
      "\u001b[0;31mTypeError\u001b[0m: __init__() missing 1 required positional argument: 'device'"
     ]
    }
   ],
   "source": [
    "%matplotlib inline \n",
    "\n",
    "EPOCHS = 4\n",
    "BATCH_SIZE = 8\n",
    "ROOT = os.getcwd()\n",
    "IMAGE_FOLDERS = os.path.join(ROOT,'ImageData')\n",
    "SHOW_EVERY = 10\n",
    "ANNOTATION_FOLDER = os.path.join(IMAGE_FOLDERS, 'annotations', 'captions_train2014.json')\n",
    "TRAIN_IMAGES_FOLDER = os.path.join(IMAGE_FOLDERS, 'train2014')\n",
    "STYLE_IMAGE_FOLDER = os.path.join(ROOT, 'ImageData', 'styleimages')\n",
    "content_dataset = MSCOCODataset(ANNOTATION_FOLDER, TRAIN_IMAGES_FOLDER, image_transform())\n",
    "style_dataset = StyleImageDataset(STYLE_IMAGE_FOLDER, image_transform())\n",
    "style_transfer_net = StyleTransferNet()\n",
    "optimizer = Adam(style_transfer_net.parameters())\n",
    "C = 0.8\n",
    "S = 0.2\n",
    "DEVICE = 'cuda'\n",
    "PKL_NAME = 'style_transfer'\n"
   ]
  },
  {
   "cell_type": "code",
   "execution_count": null,
   "metadata": {},
   "outputs": [],
   "source": [
    "train(style_transfer_net, EPOCHS, BATCH_SIZE, content_dataset, style_dataset, optimizer, C, S, DEVICE, PKL_NAME, SHOW_EVERY)"
   ]
  },
  {
   "cell_type": "code",
   "execution_count": null,
   "metadata": {},
   "outputs": [],
   "source": []
  }
 ],
 "metadata": {
  "kernelspec": {
   "display_name": "Python 3",
   "language": "python",
   "name": "python3"
  },
  "language_info": {
   "codemirror_mode": {
    "name": "ipython",
    "version": 3
   },
   "file_extension": ".py",
   "mimetype": "text/x-python",
   "name": "python",
   "nbconvert_exporter": "python",
   "pygments_lexer": "ipython3",
   "version": "3.7.1"
  }
 },
 "nbformat": 4,
 "nbformat_minor": 2
}
